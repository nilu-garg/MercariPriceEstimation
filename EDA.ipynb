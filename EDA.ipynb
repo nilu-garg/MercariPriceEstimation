{
 "cells": [
  {
   "cell_type": "markdown",
   "metadata": {},
   "source": [
    "### Importing Libraries"
   ]
  },
  {
   "cell_type": "code",
   "execution_count": null,
   "metadata": {},
   "outputs": [],
   "source": [
    "#### General Libraries\n",
    "\n",
    "import pandas as pd\n",
    "import numpy as np\n",
    "import time\n",
    "\n",
    "import warnings\n",
    "warnings.filterwarnings('ignore')\n",
    "import logging\n",
    "logging.getLogger(\"lda\").setLevel(logging.WARNING)\n",
    "\n",
    "#### Libraries for plotting graphs\n",
    "\n",
    "import matplotlib.pyplot as plt\n",
    "import seaborn as sns\n",
    "\n",
    "import plotly.offline as py\n",
    "py.init_notebook_mode(connected=True)\n",
    "import plotly.graph_objs as go\n",
    "import plotly.tools as tls\n",
    "%matplotlib inline\n",
    "\n",
    "#import bokeh.plotting as bp\n",
    "#from bokeh.models import HoverTool, BoxSelectTool\n",
    "#from bokeh.models import ColumnDataSource\n",
    "#from bokeh.plotting import figure, show, output_notebook\n",
    "#from bokeh.transform import factor_cmap\n",
    "\n",
    "### Libraries for handling text\n",
    "\n",
    "import string, re\n",
    "import nltk\n",
    "from nltk.stem.porter import *\n",
    "from nltk.tokenize import word_tokenize, sent_tokenize\n",
    "from nltk.corpus import stopwords\n",
    "from sklearn.feature_extraction import stop_words\n",
    "from collections import Counter\n",
    "#from wordcloud import WordCloud\n",
    "#from sklearn.feature_extraction.text import TfidfVectorizer\n",
    "#from sklearn.feature_extraction.text import CountVectorizer\n",
    "#from sklearn.decomposition import LatentDirichletAllocation\n",
    "#from sklearn.decomposition import TruncatedSVD\n",
    "#from sklearn.manifold import TSNE"
   ]
  },
  {
   "cell_type": "code",
   "execution_count": null,
   "metadata": {},
   "outputs": [],
   "source": [
    "train = pd.read_csv('train.tsv',sep = '\\t')\n",
    "test = pd.read_csv('test.tsv',sep = '\\t')\n",
    "\n",
    "print(\"Train has %d rows and %d columns.\" % (train.shape[0], train.shape[1]))\n",
    "print(\"Test has %d rows and %d columns.\" %(test.shape[0], test.shape[1]))"
   ]
  },
  {
   "cell_type": "markdown",
   "metadata": {},
   "source": [
    "Independent Variables - 'name', 'item_condition_id', 'category_name', 'brand_name','shipping', 'item_description'\n",
    "Dependent Variables - 'price'\n",
    "\n",
    "##### Categorical Variables\n",
    "\n",
    "1. item_condition_id | 5\n",
    "2. brand_name | 4809\n",
    "3. category_name | 1287\n",
    "4. shipping | 2\n",
    "\n",
    "##### Descriptive Variables\n",
    "\n",
    "1. name\n",
    "2. item_description\n",
    "\n",
    "##### Dependent Variable i\n",
    "1. continous variable\n",
    "2. Mean 267.3\n",
    "3. Range between 0 to 2009\n",
    "4. The variable is left skewed"
   ]
  },
  {
   "cell_type": "code",
   "execution_count": null,
   "metadata": {},
   "outputs": [],
   "source": [
    "## sample rows from train\n",
    "train.head(2)"
   ]
  },
  {
   "cell_type": "code",
   "execution_count": null,
   "metadata": {},
   "outputs": [],
   "source": [
    "## Count of missing values for each column\n",
    "train.isnull().sum()"
   ]
  },
  {
   "cell_type": "markdown",
   "metadata": {},
   "source": [
    "### Target Variable Distribution"
   ]
  },
  {
   "cell_type": "code",
   "execution_count": null,
   "metadata": {},
   "outputs": [],
   "source": [
    "train['price'].describe()"
   ]
  },
  {
   "cell_type": "code",
   "execution_count": null,
   "metadata": {},
   "outputs": [],
   "source": [
    "plt.subplot(1,2,1)\n",
    "train['price'].plot.hist(bins = 50, figsize=(20,10),range=[0,250] )\n",
    "plt.xlabel('price+', fontsize=17)\n",
    "plt.ylabel('frequency', fontsize=17)\n",
    "plt.tick_params(labelsize=15)\n",
    "plt.title('Price Distribution - Training Set', fontsize=17)\n",
    "\n",
    "plt.subplot(1, 2, 2)\n",
    "np.log(train['price']+1).plot.hist(bins=50, figsize=(20,10))\n",
    "plt.xlabel('log(price+1)', fontsize=17)\n",
    "plt.ylabel('frequency', fontsize=17)\n",
    "plt.tick_params(labelsize=15)\n",
    "plt.title('Log(Price) Distribution - Training Set', fontsize=17)"
   ]
  },
  {
   "cell_type": "markdown",
   "metadata": {},
   "source": [
    "### Target Variable relation with shipping\n",
    "\n",
    "The variable is 1 when seller pays for the shipping cost and 0 when buyer pays for it. Average price of products where seller pays for shipping is 22.57 and average price for products where buyer pays for shipping is 30.11 which makes sense since the shipping cost is being compensated in the cost for those proucts"
   ]
  },
  {
   "cell_type": "code",
   "execution_count": null,
   "metadata": {},
   "outputs": [],
   "source": [
    "### Shipping Counts\n",
    "train['shipping'].value_counts()/train.shape[0] * 100"
   ]
  },
  {
   "cell_type": "code",
   "execution_count": null,
   "metadata": {},
   "outputs": [],
   "source": [
    "ship1 = train[train['shipping']==1]['price']\n",
    "ship0 = train[train['shipping']==0]['price']\n",
    "\n",
    "print(\"Average price when seller pays for shipping is %f\" %ship1.mean())\n",
    "print(\"Average price when buyer pays for shipping is %f\" %ship0.mean())"
   ]
  },
  {
   "cell_type": "code",
   "execution_count": null,
   "metadata": {},
   "outputs": [],
   "source": [
    "fig, ax = plt.subplots(figsize=(20,10))\n",
    "ax.hist(np.log(ship1+1),bins=50,label='Price when Seller pays Shipping',alpha = 1.0)#, color='#8CB4E1',\n",
    "ax.hist(np.log(ship0+1), bins=50,label='Price when Buyer pays Shipping',alpha = 0.7)# color='#007D00',\n",
    "#ax.set(title='Histogram Comparison', ylabel='% of Dataset in Bin')\n",
    "plt.xlabel('log(price+1)', fontsize=17)\n",
    "plt.ylabel('frequency', fontsize=17)\n",
    "plt.title('Price Distribution by Shipping Type', fontsize=17)\n",
    "plt.tick_params(labelsize=15)\n",
    "#plt.show()"
   ]
  },
  {
   "cell_type": "code",
   "execution_count": null,
   "metadata": {},
   "outputs": [],
   "source": [
    "fig = go.Figure()\n",
    "fig.add_trace(go.Histogram(x=np.log(ship1+1)))\n",
    "fig.add_trace(go.Histogram(x=np.log(ship0+1)))\n",
    "\n",
    "# The two histograms are drawn on top of another\n",
    "fig.update_layout(barmode='stack')\n",
    "fig.show()"
   ]
  },
  {
   "cell_type": "markdown",
   "metadata": {},
   "source": [
    "### Target variable's relationship with item condition\n",
    "\n",
    "There isn't much significant difference between average price based on condition of item."
   ]
  },
  {
   "cell_type": "code",
   "execution_count": null,
   "metadata": {},
   "outputs": [],
   "source": [
    "## Item condition count\n",
    "train['item_condition_id'].value_counts()/train.shape[0]*100"
   ]
  },
  {
   "cell_type": "code",
   "execution_count": null,
   "metadata": {},
   "outputs": [],
   "source": [
    "cond1 = train[train['item_condition_id']==1]['price']\n",
    "cond2 = train[train['item_condition_id']==2]['price']\n",
    "cond3 = train[train['item_condition_id']==3]['price']\n",
    "cond4 = train[train['item_condition_id']==4]['price']\n",
    "cond5 = train[train['item_condition_id']==5]['price']\n",
    "\n",
    "print(\"Average price when Condition is 1 %f\" %cond1.mean())\n",
    "print(\"Average price when Condition is 2 %f\" %cond2.mean())\n",
    "print(\"Average price when Condition is 3 %f\" %cond3.mean())\n",
    "print(\"Average price when Condition is 4 %f\" %cond4.mean())\n",
    "print(\"Average price when Condition is 5 %f\" %cond5.mean())\n",
    "\n",
    "\n",
    "\n",
    "fig, ax = plt.subplots(figsize=(20,10))\n",
    "ax.hist(np.log(cond1+1),bins=50,label='Price when Condition is 1',alpha = 1.0,color = 'black')#, color='#8CB4E1',\n",
    "ax.hist(np.log(cond2+1),bins=50,label='Price when Condition is 2',alpha = 0.7,color = 'darksalmon')\n",
    "ax.hist(np.log(cond3+1),bins=50,label='Price when Condition is 3',alpha = 0.4)\n",
    "#ax.hist(np.log(cond4+1),bins=50,label='Price when Condition is 4',alpha = 0.4)\n",
    "#ax.hist(np.log(cond5+1),bins=50,label='Price when Condition is 5',alpha = 0.2, color = 'lavenderblush')# color='#007D00',\n",
    "plt.xlabel('log(price+1)', fontsize=17)\n",
    "plt.ylabel('frequency', fontsize=17)\n",
    "plt.title('Price Distribution by Item Condition', fontsize=17)\n",
    "#plt.tick_params(labelsize=15)"
   ]
  },
  {
   "cell_type": "markdown",
   "metadata": {},
   "source": [
    "### Relationship of price with Item category\n",
    "\n",
    "There are 1287 unique categories in the list. 6327 items are missing category. Each category consists of 3 or 4 subcategories.\n",
    "After splitting the category description into three categories, category 1 has 10 main categories with two categories having more than 50% of the share. Category 2 has 113 values and category 3 has 870 values."
   ]
  },
  {
   "cell_type": "code",
   "execution_count": null,
   "metadata": {},
   "outputs": [],
   "source": [
    "train['category_name'].value_counts()[:5]/train.shape[0] * 100"
   ]
  },
  {
   "cell_type": "code",
   "execution_count": null,
   "metadata": {},
   "outputs": [],
   "source": [
    "def category_split(x):\n",
    "    try: return(x.split(\"/\"))\n",
    "    except: return((\"NA\",\"NA\",\"NA\"))\n",
    "train['Cat_1'], train['Cat_2'],train['Cat_3'] = zip(*train['category_name'].apply(lambda x: category_split(x)))\n",
    "train['Cat_1'].value_counts()/train.shape[0]*100"
   ]
  },
  {
   "cell_type": "code",
   "execution_count": null,
   "metadata": {},
   "outputs": [],
   "source": [
    "train['Cat_2'].value_counts()[:5]/train.shape[0]*100"
   ]
  },
  {
   "cell_type": "code",
   "execution_count": null,
   "metadata": {},
   "outputs": [],
   "source": [
    "train['Cat_3'].value_counts()[:5]/train.shape[0]*100"
   ]
  },
  {
   "cell_type": "code",
   "execution_count": null,
   "metadata": {},
   "outputs": [],
   "source": [
    "x = train['Cat_1'].value_counts().index.values.astype('str')\n",
    "y = train['Cat_1'].value_counts().values\n",
    "pct = [(\"%.2f\"%(v*100))+\"%\"for v in (y/len(train))]\n",
    "\n",
    "layout = dict(title= 'Number of Items by Main Category',\n",
    "              yaxis = dict(title='Count'),\n",
    "              xaxis = dict(title='Category'))\n",
    "fig=dict(data=go.Bar(x=x, y=y, text=pct), layout=layout)\n",
    "py.iplot(fig)"
   ]
  },
  {
   "cell_type": "code",
   "execution_count": null,
   "metadata": {},
   "outputs": [],
   "source": [
    "general_cats = train['Cat_1'].unique()\n",
    "x = [train.loc[train['Cat_1']==cat, 'price'] for cat in general_cats]\n",
    "data = [go.Box(x=np.log(x[i]+1), name=general_cats[i]) for i in range(len(general_cats))]\n",
    "layout = dict(title= 'Price Distribution by Main Category',\n",
    "              yaxis = dict(title='Frequency'),\n",
    "              xaxis = dict(title='Category'))\n",
    "py.iplot(dict(data=data, layout=layout))"
   ]
  }
 ],
 "metadata": {
  "kernelspec": {
   "display_name": "Python 3",
   "language": "python",
   "name": "python3"
  },
  "language_info": {
   "codemirror_mode": {
    "name": "ipython",
    "version": 3
   },
   "file_extension": ".py",
   "mimetype": "text/x-python",
   "name": "python",
   "nbconvert_exporter": "python",
   "pygments_lexer": "ipython3",
   "version": "3.6.5"
  }
 },
 "nbformat": 4,
 "nbformat_minor": 4
}
